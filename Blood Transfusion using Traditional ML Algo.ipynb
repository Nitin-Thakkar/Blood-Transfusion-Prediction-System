{
 "cells": [
  {
   "cell_type": "markdown",
   "id": "10afb2c7",
   "metadata": {},
   "source": [
    "\n",
    "##  Scenario Formulation\n",
    "\n",
    "The importance of blood transfusions is well known to save lives. In some cases, it turns out to be a boon for patients who are in critical need of blood to give them more moments with their loved ones. Blood transfusions are essential for treating various blood-related conditions and for exchanging blood after major surgery. According to one study, India faced a blood shortage of 1.9 million units in 2016-17. This was due to a lack of communication between blood banks, hospitals, and voluntary donors who might have been present when needed. Most blood donors in this developed world are unpaid volunteers. It is extremely hard for blood banks, hospitals, or the Government to sustain health care without adequate blood from such donors and blood donor organizations play a very crucial role in this endeavor.\n",
    "According to the latest report from PwC (Price Waterhouse Coopers), AI is estimated to contribute more than $ 15 trillion to the global economy by 2030, with the biggest impact of artificial intelligence on healthcare. With big data and intelligent systems, you can identify regular and potential blood donors and contact them for blood donations. We find it very useful in the healthcare sector to create intelligent systems that can make decisions to improve communication throughout the supply chain.\n",
    "\n",
    "\n",
    "## Problem Statement:\n",
    "\n",
    "Blood transfusions in the medical industry have proved to be a manual process. We believe it is more important to intelligently automate the blood transfusion supply chain as all critical conditions can require blood at the earliest. Blood banks and health agencies can organize blood donations more efficiently if they can predict how many people will donate blood based on previous blood donations in blood camps.\n",
    "The goal of this group project is to anticipate who will donate blood in upcoming blood donation camps and during the urgent need. To achieve this goal, we are planning to analyze the person's blood donation history and predict the likelihood that the person will donate blood in the future or not. We will use the dataset that is readily available on the web. After studying the dataset, we will train the model using multiple machine learning algorithms, optimize different hyperparameters, evaluate the models' results, and compare the accuracy of each to choose the best.\n",
    "\n",
    "## Our Research:\n",
    "\n",
    "In order to study our project goal and solution in more detail, we have researched some papers available online, where authors have successfully contributed to the thought of blood transfusion. Below is the abstract from those research papers.\n"
   ]
  },
  {
   "cell_type": "markdown",
   "id": "e570f26d",
   "metadata": {},
   "source": [
    "# Research Paper 1\n",
    "\n",
    "## PREDICTING BLOOD DONATIONS USING MACHINE LEARNING TECHNIQUES-http://matthewalanham.com/Students/2017_MWDSI_Final_Bahel.pdf \n",
    "\n",
    "### Aim:\n",
    "This research paper is written by Deepti Bahel, Prerana Ghosh, Arundhyoti Sarkar and Matthew A. Lanham. As the number of transfusions due to accidents, diseases and surgeries are increasing day by data the main aim of this research paper is to find the best machine learning technique that can predict accurately the numbers of doners that meet the criteria that meets the blood donation criteria.\n",
    "\n",
    "### Observation:\n",
    "As this problem is based on classification problem, they have used several classification problems such as SVM, ANN, CART, C5.0, Logistic Regression, Logit (Bagging & Boosting), LDA and Random Forest. The have also tried try 5-fold and 10-fold cross-validation on some of the models as these techniques will help model to learn 5 or 10 sample datasets than just training model on one sample data.\n",
    "\t\n",
    "### Results and Conclusion:\n",
    "Among all the algorithms 5-fold cross-validated logistic regression model performed the best based on the test set AUC (72.6%). Researcher are more interested in the True Positive Result (TPR) which would be to target the actual donors who would be interested in donating blood regularly. Hence, our performance would focus more on sensitivity leading us to recommend a clustered SVM model (98.4%).  \n",
    "\n",
    "### References:\n",
    "Ashoori, M., et al. (2017). \"Exploring Blood Donors’ Status Through Clustering: A Method to Improve the Quality of Services in Blood Transfusion Centers.\" Journal of Knowledge & Health 11(4): page: 73-82.\n",
    "\n",
    "Bhardwaj, A., et al. (2012). \"Data mining techniques and their implementation in blood bank sector–a review.\" International Journal of Engineering Research and Applications (IJERA) 2(4): 1303-1309.\n",
    "\n",
    "Godin, G., et al. (2007). \"Determinants of repeated blood donation among new and experienced blood donors.\" Transfusion 47(9): 1607-1615\n",
    "\n",
    "Santhanam, T. and S. Sundaram (2010). \"Application of CART algorithm in blood donors classification.\" Journal of Computer Science 6(5): 548.\n",
    "\n",
    "Veldhuizen, I., et al. (2011). \"Exploring the dynamics of the theory of planned behavior in the context of blood donation: does donation experience make a difference?\" Transfusion 51(11): 2425-2437.\n",
    "\n",
    "\n",
    "### Our Prediction and Match Expectation:\n",
    " As they have used the classification algorithms for the classification problem they have met out expectation and after performing the Decision tree, Logistic Regression and SVM algorithms our accuracy of the model almost matches the accuracy of algorithms used in the research paper."
   ]
  },
  {
   "cell_type": "markdown",
   "id": "08cb7380",
   "metadata": {},
   "source": [
    "# Research Paper 2\n",
    "## A survey on machine learning algorithms for the blood donation supply chain - https://iopscience.iop.org/article/10.1088/1742-6596/1362/1/012124/pdf \n",
    "\n",
    "\n",
    "### Did your research papers’ predictions match expectations?\n",
    "In this research paper, they had a nice survey on machine learning algorithms for the blood donation supply chain. They mainly focus on the problem of The rising demand for blood and the decline in donation rates has put a lot of strain on the blood donation supply chain. So they gave a general summary of the various machine learning techniques which have been applied to this domain and compared their advantages and disadvantages.\n",
    "\n",
    "After reading this paper we can say that after trying various machine learning algorithms their prediction matched with the expectations. The possibility of finding an ideal donor would increase resulting in lower rates of transfusion-related complexities.\n",
    "\n",
    "### Which algorithm did they use? Why? What were the results?\n",
    "They have started with a logistic regression model that generates a donor score, but that overfit the problem.Then they used Artificial Neural Networks and Decision trees to provide comparable and better performing models respectively. The results they generate are closely comparable. They tried a Multilayer Perceptron with backpropagation was used for theaccuracy test of donor group classification and told that ANN indicated to be a more suitable model for such computations.They classified candidates into the blood donor group with recall and precision values of 88% and 81.7%, respectively,and classified the others into the non-donor group with recall and precision values of41.6% and 53.8% respectively.The total accuracy of this model was 76.25%. ANN indicated to be a more suitable model for such computations.\n",
    "\n",
    "Finally, they focus on the comparison of Service Vector Machines and Artificial Neural Networks. A variant of SVM called Least squares SVM is used. They have several features that are high compared to the number of data points in the dataset.\n",
    "\n",
    "### What were the results?\n",
    "\n",
    "After trying the various machine learning algorithms have concluded that machine learning techniques like ANN, SVM, and decision trees are vital for the development of a balanced and dependable mechanism for communicating with and identifying viable blood donors.\n",
    "\n",
    "### REFERENCES\n",
    "\n",
    "Subramanian Mahadevan et al 2019 J. Phys.: Conf. Ser. 1362 012124\n",
    "\n",
    "Raj A, Gupta A & Selvaraj P. 2018. “Predicting Donor’s Likelihood of donating blood given various factors”. International Journal of Pure and Applied Mathematics.118.\n",
    "\n",
    "Boonyanusith W, Jittamai P. “Blood donor classification using neural network and decision tree techniques”. In Proceedings of the World Congress on Engineering and Computer Science 2012 (Vol. 1, pp. 499-503).\n",
    "\n",
    "Chen HC, Wee HM, Hsieh YH. Optimal supply chain inventory decision using artificial neural network. In 2009 WRI Global Congress on Intelligent Systems 2009 May 19 (Vol.4, pp. 130-134). IEEE.\n",
    "\n",
    "Sun A, Zhao T, Chen J, Chang J. Comparative Study: Common ANN and LS-SVM Exchange Rate Performance Prediction. Chinese Journal of Electronics. 2018 May 1;27(3):561-4.\n"
   ]
  },
  {
   "cell_type": "markdown",
   "id": "4b88c474",
   "metadata": {},
   "source": [
    "# Coding"
   ]
  },
  {
   "cell_type": "markdown",
   "id": "e84537b7",
   "metadata": {},
   "source": [
    "Blood Transfussion Dataset from Taiwan University (March 2007 )\n",
    "#### Data Set Description\n",
    "\n",
    "R (Recency - months since the last donation)\n",
    " \n",
    "F (Frequency - total number of donation)\n",
    "\n",
    "M (Monetary - total blood donated in c.c.)\n",
    "\n",
    "T (Time - months since the first donation)\n",
    "\n",
    "a binary variable representing whether he/she donated blood in March 2007 (1 stands for donating blood; 0 stands for not donating blood)"
   ]
  },
  {
   "cell_type": "code",
   "execution_count": 81,
   "id": "61c9e90b",
   "metadata": {},
   "outputs": [],
   "source": [
    "import matplotlib.pyplot as plt\n",
    "import numpy as np\n",
    "import pandas as pd\n",
    "import seaborn as sns\n",
    "import matplotlib.pyplot as plt\n",
    "from sklearn.model_selection import train_test_split\n",
    "from sklearn.linear_model import LogisticRegression\n",
    "from sklearn.tree import DecisionTreeClassifier\n",
    "from sklearn import metrics\n",
    "from sklearn import svm\n",
    "from sklearn.metrics import accuracy_score\n",
    "from sklearn.metrics import confusion_matrix\n"
   ]
  },
  {
   "cell_type": "markdown",
   "id": "93ad18f2",
   "metadata": {},
   "source": [
    "### Loding dataset"
   ]
  },
  {
   "cell_type": "code",
   "execution_count": 82,
   "id": "765bc6e0",
   "metadata": {},
   "outputs": [
    {
     "data": {
      "text/html": [
       "<div>\n",
       "<style scoped>\n",
       "    .dataframe tbody tr th:only-of-type {\n",
       "        vertical-align: middle;\n",
       "    }\n",
       "\n",
       "    .dataframe tbody tr th {\n",
       "        vertical-align: top;\n",
       "    }\n",
       "\n",
       "    .dataframe thead th {\n",
       "        text-align: right;\n",
       "    }\n",
       "</style>\n",
       "<table border=\"1\" class=\"dataframe\">\n",
       "  <thead>\n",
       "    <tr style=\"text-align: right;\">\n",
       "      <th></th>\n",
       "      <th>Recency (months)</th>\n",
       "      <th>Frequency (times)</th>\n",
       "      <th>Monetary (c.c. blood)</th>\n",
       "      <th>Time (months)</th>\n",
       "      <th>target</th>\n",
       "    </tr>\n",
       "  </thead>\n",
       "  <tbody>\n",
       "    <tr>\n",
       "      <th>0</th>\n",
       "      <td>2</td>\n",
       "      <td>50</td>\n",
       "      <td>12500</td>\n",
       "      <td>98</td>\n",
       "      <td>1</td>\n",
       "    </tr>\n",
       "    <tr>\n",
       "      <th>1</th>\n",
       "      <td>0</td>\n",
       "      <td>13</td>\n",
       "      <td>3250</td>\n",
       "      <td>28</td>\n",
       "      <td>1</td>\n",
       "    </tr>\n",
       "    <tr>\n",
       "      <th>2</th>\n",
       "      <td>1</td>\n",
       "      <td>16</td>\n",
       "      <td>4000</td>\n",
       "      <td>35</td>\n",
       "      <td>1</td>\n",
       "    </tr>\n",
       "    <tr>\n",
       "      <th>3</th>\n",
       "      <td>2</td>\n",
       "      <td>20</td>\n",
       "      <td>5000</td>\n",
       "      <td>45</td>\n",
       "      <td>1</td>\n",
       "    </tr>\n",
       "    <tr>\n",
       "      <th>4</th>\n",
       "      <td>1</td>\n",
       "      <td>24</td>\n",
       "      <td>6000</td>\n",
       "      <td>77</td>\n",
       "      <td>0</td>\n",
       "    </tr>\n",
       "    <tr>\n",
       "      <th>...</th>\n",
       "      <td>...</td>\n",
       "      <td>...</td>\n",
       "      <td>...</td>\n",
       "      <td>...</td>\n",
       "      <td>...</td>\n",
       "    </tr>\n",
       "    <tr>\n",
       "      <th>1135</th>\n",
       "      <td>5</td>\n",
       "      <td>13</td>\n",
       "      <td>3343</td>\n",
       "      <td>60</td>\n",
       "      <td>1</td>\n",
       "    </tr>\n",
       "    <tr>\n",
       "      <th>1136</th>\n",
       "      <td>14</td>\n",
       "      <td>2</td>\n",
       "      <td>500</td>\n",
       "      <td>33</td>\n",
       "      <td>1</td>\n",
       "    </tr>\n",
       "    <tr>\n",
       "      <th>1137</th>\n",
       "      <td>12</td>\n",
       "      <td>4</td>\n",
       "      <td>1000</td>\n",
       "      <td>25</td>\n",
       "      <td>1</td>\n",
       "    </tr>\n",
       "    <tr>\n",
       "      <th>1138</th>\n",
       "      <td>4</td>\n",
       "      <td>6</td>\n",
       "      <td>1500</td>\n",
       "      <td>29</td>\n",
       "      <td>1</td>\n",
       "    </tr>\n",
       "    <tr>\n",
       "      <th>1139</th>\n",
       "      <td>2</td>\n",
       "      <td>7</td>\n",
       "      <td>1750</td>\n",
       "      <td>14</td>\n",
       "      <td>1</td>\n",
       "    </tr>\n",
       "  </tbody>\n",
       "</table>\n",
       "<p>1140 rows × 5 columns</p>\n",
       "</div>"
      ],
      "text/plain": [
       "      Recency (months)  Frequency (times)  Monetary (c.c. blood)  \\\n",
       "0                    2                 50                  12500   \n",
       "1                    0                 13                   3250   \n",
       "2                    1                 16                   4000   \n",
       "3                    2                 20                   5000   \n",
       "4                    1                 24                   6000   \n",
       "...                ...                ...                    ...   \n",
       "1135                 5                 13                   3343   \n",
       "1136                14                  2                    500   \n",
       "1137                12                  4                   1000   \n",
       "1138                 4                  6                   1500   \n",
       "1139                 2                  7                   1750   \n",
       "\n",
       "      Time (months)  target  \n",
       "0                98       1  \n",
       "1                28       1  \n",
       "2                35       1  \n",
       "3                45       1  \n",
       "4                77       0  \n",
       "...             ...     ...  \n",
       "1135             60       1  \n",
       "1136             33       1  \n",
       "1137             25       1  \n",
       "1138             29       1  \n",
       "1139             14       1  \n",
       "\n",
       "[1140 rows x 5 columns]"
      ]
     },
     "execution_count": 82,
     "metadata": {},
     "output_type": "execute_result"
    }
   ],
   "source": [
    "data=pd.read_csv('Prediction.csv',usecols=['Recency (months)','Frequency (times)','Monetary (c.c. blood)','Time (months)','target'])\n",
    "data"
   ]
  },
  {
   "cell_type": "markdown",
   "id": "a31a279a",
   "metadata": {},
   "source": [
    "### Finding information of data such as null values and datatype"
   ]
  },
  {
   "cell_type": "code",
   "execution_count": 3,
   "id": "6f9e7fa5",
   "metadata": {},
   "outputs": [
    {
     "name": "stdout",
     "output_type": "stream",
     "text": [
      "<class 'pandas.core.frame.DataFrame'>\n",
      "RangeIndex: 1140 entries, 0 to 1139\n",
      "Data columns (total 5 columns):\n",
      " #   Column                 Non-Null Count  Dtype\n",
      "---  ------                 --------------  -----\n",
      " 0   Recency (months)       1140 non-null   int64\n",
      " 1   Frequency (times)      1140 non-null   int64\n",
      " 2   Monetary (c.c. blood)  1140 non-null   int64\n",
      " 3   Time (months)          1140 non-null   int64\n",
      " 4   target                 1140 non-null   int64\n",
      "dtypes: int64(5)\n",
      "memory usage: 44.7 KB\n"
     ]
    }
   ],
   "source": [
    "data.info()"
   ]
  },
  {
   "cell_type": "code",
   "execution_count": 83,
   "id": "16c4e589",
   "metadata": {},
   "outputs": [
    {
     "data": {
      "text/html": [
       "<div>\n",
       "<style scoped>\n",
       "    .dataframe tbody tr th:only-of-type {\n",
       "        vertical-align: middle;\n",
       "    }\n",
       "\n",
       "    .dataframe tbody tr th {\n",
       "        vertical-align: top;\n",
       "    }\n",
       "\n",
       "    .dataframe thead th {\n",
       "        text-align: right;\n",
       "    }\n",
       "</style>\n",
       "<table border=\"1\" class=\"dataframe\">\n",
       "  <thead>\n",
       "    <tr style=\"text-align: right;\">\n",
       "      <th></th>\n",
       "      <th>Recency (months)</th>\n",
       "      <th>Frequency (times)</th>\n",
       "      <th>Monetary (c.c. blood)</th>\n",
       "      <th>Time (months)</th>\n",
       "      <th>target</th>\n",
       "    </tr>\n",
       "  </thead>\n",
       "  <tbody>\n",
       "    <tr>\n",
       "      <th>count</th>\n",
       "      <td>1140.000000</td>\n",
       "      <td>1140.000000</td>\n",
       "      <td>1140.000000</td>\n",
       "      <td>1140.000000</td>\n",
       "      <td>1140.000000</td>\n",
       "    </tr>\n",
       "    <tr>\n",
       "      <th>mean</th>\n",
       "      <td>7.873684</td>\n",
       "      <td>6.356140</td>\n",
       "      <td>1594.127193</td>\n",
       "      <td>33.821053</td>\n",
       "      <td>0.500000</td>\n",
       "    </tr>\n",
       "    <tr>\n",
       "      <th>std</th>\n",
       "      <td>7.334466</td>\n",
       "      <td>6.897048</td>\n",
       "      <td>1738.233604</td>\n",
       "      <td>23.959057</td>\n",
       "      <td>0.500219</td>\n",
       "    </tr>\n",
       "    <tr>\n",
       "      <th>min</th>\n",
       "      <td>0.000000</td>\n",
       "      <td>1.000000</td>\n",
       "      <td>250.000000</td>\n",
       "      <td>2.000000</td>\n",
       "      <td>0.000000</td>\n",
       "    </tr>\n",
       "    <tr>\n",
       "      <th>25%</th>\n",
       "      <td>2.000000</td>\n",
       "      <td>2.000000</td>\n",
       "      <td>500.000000</td>\n",
       "      <td>16.000000</td>\n",
       "      <td>0.000000</td>\n",
       "    </tr>\n",
       "    <tr>\n",
       "      <th>50%</th>\n",
       "      <td>4.000000</td>\n",
       "      <td>5.000000</td>\n",
       "      <td>1250.000000</td>\n",
       "      <td>28.000000</td>\n",
       "      <td>0.500000</td>\n",
       "    </tr>\n",
       "    <tr>\n",
       "      <th>75%</th>\n",
       "      <td>13.000000</td>\n",
       "      <td>8.000000</td>\n",
       "      <td>2000.000000</td>\n",
       "      <td>48.000000</td>\n",
       "      <td>1.000000</td>\n",
       "    </tr>\n",
       "    <tr>\n",
       "      <th>max</th>\n",
       "      <td>74.000000</td>\n",
       "      <td>50.000000</td>\n",
       "      <td>12500.000000</td>\n",
       "      <td>98.000000</td>\n",
       "      <td>1.000000</td>\n",
       "    </tr>\n",
       "  </tbody>\n",
       "</table>\n",
       "</div>"
      ],
      "text/plain": [
       "       Recency (months)  Frequency (times)  Monetary (c.c. blood)  \\\n",
       "count       1140.000000        1140.000000            1140.000000   \n",
       "mean           7.873684           6.356140            1594.127193   \n",
       "std            7.334466           6.897048            1738.233604   \n",
       "min            0.000000           1.000000             250.000000   \n",
       "25%            2.000000           2.000000             500.000000   \n",
       "50%            4.000000           5.000000            1250.000000   \n",
       "75%           13.000000           8.000000            2000.000000   \n",
       "max           74.000000          50.000000           12500.000000   \n",
       "\n",
       "       Time (months)       target  \n",
       "count    1140.000000  1140.000000  \n",
       "mean       33.821053     0.500000  \n",
       "std        23.959057     0.500219  \n",
       "min         2.000000     0.000000  \n",
       "25%        16.000000     0.000000  \n",
       "50%        28.000000     0.500000  \n",
       "75%        48.000000     1.000000  \n",
       "max        98.000000     1.000000  "
      ]
     },
     "execution_count": 83,
     "metadata": {},
     "output_type": "execute_result"
    }
   ],
   "source": [
    "data.describe()"
   ]
  },
  {
   "cell_type": "markdown",
   "id": "f10cb4eb",
   "metadata": {},
   "source": [
    "### Getting all column name in dataset"
   ]
  },
  {
   "cell_type": "code",
   "execution_count": 4,
   "id": "34802e1c",
   "metadata": {},
   "outputs": [
    {
     "data": {
      "text/plain": [
       "Index(['Recency (months)', 'Frequency (times)', 'Monetary (c.c. blood)',\n",
       "       'Time (months)', 'target'],\n",
       "      dtype='object')"
      ]
     },
     "execution_count": 4,
     "metadata": {},
     "output_type": "execute_result"
    }
   ],
   "source": [
    "data.columns"
   ]
  },
  {
   "cell_type": "code",
   "execution_count": 80,
   "id": "e6cca436",
   "metadata": {},
   "outputs": [
    {
     "data": {
      "text/plain": [
       "(570, 570)"
      ]
     },
     "execution_count": 80,
     "metadata": {},
     "output_type": "execute_result"
    }
   ],
   "source": [
    "len(data[data['target']==1]),len(data[data['target']==0]),"
   ]
  },
  {
   "cell_type": "markdown",
   "id": "b864e28f",
   "metadata": {},
   "source": [
    "### Splitting Dataset in independent dataset and Independent Dataset"
   ]
  },
  {
   "cell_type": "code",
   "execution_count": 5,
   "id": "fa47a3ca",
   "metadata": {},
   "outputs": [
    {
     "data": {
      "text/html": [
       "<div>\n",
       "<style scoped>\n",
       "    .dataframe tbody tr th:only-of-type {\n",
       "        vertical-align: middle;\n",
       "    }\n",
       "\n",
       "    .dataframe tbody tr th {\n",
       "        vertical-align: top;\n",
       "    }\n",
       "\n",
       "    .dataframe thead th {\n",
       "        text-align: right;\n",
       "    }\n",
       "</style>\n",
       "<table border=\"1\" class=\"dataframe\">\n",
       "  <thead>\n",
       "    <tr style=\"text-align: right;\">\n",
       "      <th></th>\n",
       "      <th>Recency (months)</th>\n",
       "      <th>Frequency (times)</th>\n",
       "      <th>Monetary (c.c. blood)</th>\n",
       "      <th>Time (months)</th>\n",
       "    </tr>\n",
       "  </thead>\n",
       "  <tbody>\n",
       "    <tr>\n",
       "      <th>0</th>\n",
       "      <td>2</td>\n",
       "      <td>50</td>\n",
       "      <td>12500</td>\n",
       "      <td>98</td>\n",
       "    </tr>\n",
       "    <tr>\n",
       "      <th>1</th>\n",
       "      <td>0</td>\n",
       "      <td>13</td>\n",
       "      <td>3250</td>\n",
       "      <td>28</td>\n",
       "    </tr>\n",
       "    <tr>\n",
       "      <th>2</th>\n",
       "      <td>1</td>\n",
       "      <td>16</td>\n",
       "      <td>4000</td>\n",
       "      <td>35</td>\n",
       "    </tr>\n",
       "    <tr>\n",
       "      <th>3</th>\n",
       "      <td>2</td>\n",
       "      <td>20</td>\n",
       "      <td>5000</td>\n",
       "      <td>45</td>\n",
       "    </tr>\n",
       "    <tr>\n",
       "      <th>4</th>\n",
       "      <td>1</td>\n",
       "      <td>24</td>\n",
       "      <td>6000</td>\n",
       "      <td>77</td>\n",
       "    </tr>\n",
       "    <tr>\n",
       "      <th>...</th>\n",
       "      <td>...</td>\n",
       "      <td>...</td>\n",
       "      <td>...</td>\n",
       "      <td>...</td>\n",
       "    </tr>\n",
       "    <tr>\n",
       "      <th>1135</th>\n",
       "      <td>5</td>\n",
       "      <td>13</td>\n",
       "      <td>3343</td>\n",
       "      <td>60</td>\n",
       "    </tr>\n",
       "    <tr>\n",
       "      <th>1136</th>\n",
       "      <td>14</td>\n",
       "      <td>2</td>\n",
       "      <td>500</td>\n",
       "      <td>33</td>\n",
       "    </tr>\n",
       "    <tr>\n",
       "      <th>1137</th>\n",
       "      <td>12</td>\n",
       "      <td>4</td>\n",
       "      <td>1000</td>\n",
       "      <td>25</td>\n",
       "    </tr>\n",
       "    <tr>\n",
       "      <th>1138</th>\n",
       "      <td>4</td>\n",
       "      <td>6</td>\n",
       "      <td>1500</td>\n",
       "      <td>29</td>\n",
       "    </tr>\n",
       "    <tr>\n",
       "      <th>1139</th>\n",
       "      <td>2</td>\n",
       "      <td>7</td>\n",
       "      <td>1750</td>\n",
       "      <td>14</td>\n",
       "    </tr>\n",
       "  </tbody>\n",
       "</table>\n",
       "<p>1140 rows × 4 columns</p>\n",
       "</div>"
      ],
      "text/plain": [
       "      Recency (months)  Frequency (times)  Monetary (c.c. blood)  \\\n",
       "0                    2                 50                  12500   \n",
       "1                    0                 13                   3250   \n",
       "2                    1                 16                   4000   \n",
       "3                    2                 20                   5000   \n",
       "4                    1                 24                   6000   \n",
       "...                ...                ...                    ...   \n",
       "1135                 5                 13                   3343   \n",
       "1136                14                  2                    500   \n",
       "1137                12                  4                   1000   \n",
       "1138                 4                  6                   1500   \n",
       "1139                 2                  7                   1750   \n",
       "\n",
       "      Time (months)  \n",
       "0                98  \n",
       "1                28  \n",
       "2                35  \n",
       "3                45  \n",
       "4                77  \n",
       "...             ...  \n",
       "1135             60  \n",
       "1136             33  \n",
       "1137             25  \n",
       "1138             29  \n",
       "1139             14  \n",
       "\n",
       "[1140 rows x 4 columns]"
      ]
     },
     "execution_count": 5,
     "metadata": {},
     "output_type": "execute_result"
    }
   ],
   "source": [
    "data_IV=data[['Recency (months)', 'Frequency (times)', 'Monetary (c.c. blood)',\n",
    "       'Time (months)']]\n",
    "data_IV"
   ]
  },
  {
   "cell_type": "code",
   "execution_count": 6,
   "id": "efbaa1ed",
   "metadata": {},
   "outputs": [
    {
     "data": {
      "text/plain": [
       "0       1\n",
       "1       1\n",
       "2       1\n",
       "3       1\n",
       "4       0\n",
       "       ..\n",
       "1135    1\n",
       "1136    1\n",
       "1137    1\n",
       "1138    1\n",
       "1139    1\n",
       "Name: target, Length: 1140, dtype: int64"
      ]
     },
     "execution_count": 6,
     "metadata": {},
     "output_type": "execute_result"
    }
   ],
   "source": [
    "data_DV=data['target']\n",
    "data_DV"
   ]
  },
  {
   "cell_type": "markdown",
   "id": "3ee728fe",
   "metadata": {},
   "source": [
    "### Plotting histogram"
   ]
  },
  {
   "cell_type": "code",
   "execution_count": 7,
   "id": "f9250705",
   "metadata": {},
   "outputs": [
    {
     "data": {
      "image/png": "[encoded data removed]",
      "text/plain": [
       "<Figure size 432x288 with 1 Axes>"
      ]
     },
     "metadata": {
      "needs_background": "light"
     },
     "output_type": "display_data"
    },
    {
     "data": {
      "image/png": "[encoded data removed]",
      "text/plain": [
       "<Figure size 432x288 with 1 Axes>"
      ]
     },
     "metadata": {
      "needs_background": "light"
     },
     "output_type": "display_data"
    },
    {
     "data": {
      "image/png": "[encoded data removed]",
      "text/plain": [
       "<Figure size 432x288 with 1 Axes>"
      ]
     },
     "metadata": {
      "needs_background": "light"
     },
     "output_type": "display_data"
    },
    {
     "data": {
      "image/png": "[encoded data removed]",
      "text/plain": [
       "<Figure size 432x288 with 1 Axes>"
      ]
     },
     "metadata": {
      "needs_background": "light"
     },
     "output_type": "display_data"
    }
   ],
   "source": [
    "for i in data_IV.columns:\n",
    "    sns.histplot(data_IV[i],kde=True)\n",
    "    plt.show()"
   ]
  },
  {
   "cell_type": "markdown",
   "id": "2ad77c01",
   "metadata": {},
   "source": [
    "# Further division of data"
   ]
  },
  {
   "cell_type": "code",
   "execution_count": 8,
   "id": "1a0c591d",
   "metadata": {},
   "outputs": [],
   "source": [
    "data_donated=data[data['target']==1]\n",
    "data_nondonated=data[data['target']==0]\n"
   ]
  },
  {
   "cell_type": "code",
   "execution_count": null,
   "id": "f7cd6480",
   "metadata": {},
   "outputs": [],
   "source": []
  },
  {
   "cell_type": "code",
   "execution_count": 10,
   "id": "9d642898",
   "metadata": {},
   "outputs": [
    {
     "data": {
      "image/png": "[encoded data removed]",
      "text/plain": [
       "<Figure size 432x288 with 1 Axes>"
      ]
     },
     "metadata": {
      "needs_background": "light"
     },
     "output_type": "display_data"
    },
    {
     "data": {
      "image/png": "[encoded data removed]",
      "text/plain": [
       "<Figure size 432x288 with 1 Axes>"
      ]
     },
     "metadata": {
      "needs_background": "light"
     },
     "output_type": "display_data"
    },
    {
     "data": {
      "image/png": "[encoded data removed]",
      "text/plain": [
       "<Figure size 432x288 with 1 Axes>"
      ]
     },
     "metadata": {
      "needs_background": "light"
     },
     "output_type": "display_data"
    },
    {
     "data": {
      "image/png": "[encoded data removed]",
      "text/plain": [
       "<Figure size 432x288 with 1 Axes>"
      ]
     },
     "metadata": {
      "needs_background": "light"
     },
     "output_type": "display_data"
    }
   ],
   "source": [
    "for i in data_donated[['Recency (months)', 'Frequency (times)', 'Monetary (c.c. blood)',\n",
    "       'Time (months)']]:\n",
    "    \n",
    "    sns.histplot(data_donated[i],kde=True)\n",
    "    plt.show()"
   ]
  },
  {
   "cell_type": "code",
   "execution_count": 11,
   "id": "3989de1f",
   "metadata": {},
   "outputs": [
    {
     "data": {
      "image/png": "[encoded data removed]",
      "text/plain": [
       "<Figure size 432x288 with 1 Axes>"
      ]
     },
     "metadata": {
      "needs_background": "light"
     },
     "output_type": "display_data"
    },
    {
     "data": {
      "image/png": "[encoded data removed]",
      "text/plain": [
       "<Figure size 432x288 with 1 Axes>"
      ]
     },
     "metadata": {
      "needs_background": "light"
     },
     "output_type": "display_data"
    },
    {
     "data": {
      "image/png": "[encoded data removed]",
      "text/plain": [
       "<Figure size 432x288 with 1 Axes>"
      ]
     },
     "metadata": {
      "needs_background": "light"
     },
     "output_type": "display_data"
    },
    {
     "data": {
      "image/png": "[encoded data removed]",
      "text/plain": [
       "<Figure size 432x288 with 1 Axes>"
      ]
     },
     "metadata": {
      "needs_background": "light"
     },
     "output_type": "display_data"
    }
   ],
   "source": [
    "for i in data_nondonated[['Recency (months)', 'Frequency (times)', 'Monetary (c.c. blood)',\n",
    "       'Time (months)']]:\n",
    "    \n",
    "    sns.histplot(data_nondonated[i],kde=True)\n",
    "    plt.show()"
   ]
  },
  {
   "cell_type": "markdown",
   "id": "a76efcb3",
   "metadata": {},
   "source": [
    "### plotting Boxplot"
   ]
  },
  {
   "cell_type": "code",
   "execution_count": 13,
   "id": "177fba79",
   "metadata": {},
   "outputs": [
    {
     "data": {
      "image/png": "[encoded data removed]",
      "text/plain": [
       "<Figure size 432x288 with 1 Axes>"
      ]
     },
     "metadata": {
      "needs_background": "light"
     },
     "output_type": "display_data"
    },
    {
     "data": {
      "image/png": "[encoded data removed]",
      "text/plain": [
       "<Figure size 432x288 with 1 Axes>"
      ]
     },
     "metadata": {
      "needs_background": "light"
     },
     "output_type": "display_data"
    },
    {
     "data": {
      "image/png": "[encoded data removed]",
      "text/plain": [
       "<Figure size 432x288 with 1 Axes>"
      ]
     },
     "metadata": {
      "needs_background": "light"
     },
     "output_type": "display_data"
    },
    {
     "data": {
      "image/png": "[encoded data removed]",
      "text/plain": [
       "<Figure size 432x288 with 1 Axes>"
      ]
     },
     "metadata": {
      "needs_background": "light"
     },
     "output_type": "display_data"
    }
   ],
   "source": [
    "\n",
    "for i in data_IV.columns:\n",
    "    sns.barplot(x='target',y=i,data=data)\n",
    "    plt.show()"
   ]
  },
  {
   "cell_type": "markdown",
   "id": "d3c1236c",
   "metadata": {},
   "source": [
    "### Spliting data in train test split"
   ]
  },
  {
   "cell_type": "code",
   "execution_count": 45,
   "id": "bea44c48",
   "metadata": {},
   "outputs": [],
   "source": [
    "X_train,X_test,y_train,y_test=train_test_split(data_IV,data_DV,test_size=0.20)"
   ]
  },
  {
   "cell_type": "markdown",
   "id": "fb425fd5",
   "metadata": {},
   "source": [
    "### Creating Logistic Regression"
   ]
  },
  {
   "cell_type": "code",
   "execution_count": 46,
   "id": "80fd70cf",
   "metadata": {},
   "outputs": [],
   "source": [
    "logreg = LogisticRegression()\n",
    "# fit the model with data\n",
    "logreg.fit(X_train,y_train)\n",
    "y_pred=logreg.predict(X_test)"
   ]
  },
  {
   "cell_type": "markdown",
   "id": "1d02c2af",
   "metadata": {},
   "source": [
    "### Creating Confussion Metrix"
   ]
  },
  {
   "cell_type": "code",
   "execution_count": 47,
   "id": "a3048a61",
   "metadata": {},
   "outputs": [
    {
     "data": {
      "text/plain": [
       "array([[69, 40],\n",
       "       [26, 93]], dtype=int64)"
      ]
     },
     "execution_count": 47,
     "metadata": {},
     "output_type": "execute_result"
    }
   ],
   "source": [
    "cnf_matrix = metrics.confusion_matrix(y_test, y_pred)\n",
    "cnf_matrix"
   ]
  },
  {
   "cell_type": "markdown",
   "id": "ef66407a",
   "metadata": {},
   "source": [
    "### Heat map of confusion metrix"
   ]
  },
  {
   "cell_type": "code",
   "execution_count": 48,
   "id": "26a288c3",
   "metadata": {},
   "outputs": [
    {
     "data": {
      "text/plain": [
       "<AxesSubplot:>"
      ]
     },
     "execution_count": 48,
     "metadata": {},
     "output_type": "execute_result"
    },
    {
     "data": {
      "image/png": "[encoded data removed]",
      "text/plain": [
       "<Figure size 432x288 with 2 Axes>"
      ]
     },
     "metadata": {
      "needs_background": "light"
     },
     "output_type": "display_data"
    }
   ],
   "source": [
    "sns.heatmap(cnf_matrix,annot=True,fmt='g')"
   ]
  },
  {
   "cell_type": "markdown",
   "id": "f2027d1e",
   "metadata": {},
   "source": [
    "### Getting Accuracy, Precision and Recall of dataset"
   ]
  },
  {
   "cell_type": "code",
   "execution_count": 49,
   "id": "3c20dcee",
   "metadata": {},
   "outputs": [
    {
     "name": "stdout",
     "output_type": "stream",
     "text": [
      "Accuracy: 0.7105263157894737\n",
      "Precision: 0.6992481203007519\n",
      "Recall: 0.7815126050420168\n"
     ]
    }
   ],
   "source": [
    "\n",
    "accuraccy_lr=metrics.accuracy_score(y_test, y_pred)\n",
    "print(\"Accuracy:\",metrics.accuracy_score(y_test, y_pred))\n",
    "print(\"Precision:\",metrics.precision_score(y_test, y_pred))\n",
    "print(\"Recall:\",metrics.recall_score(y_test, y_pred))"
   ]
  },
  {
   "cell_type": "markdown",
   "id": "d94f462c",
   "metadata": {},
   "source": [
    "# Decision Tree"
   ]
  },
  {
   "cell_type": "markdown",
   "id": "44410961",
   "metadata": {},
   "source": [
    "### Creating Decision tree classifier"
   ]
  },
  {
   "cell_type": "code",
   "execution_count": 50,
   "id": "840c92e0",
   "metadata": {},
   "outputs": [],
   "source": [
    "clf_dt = DecisionTreeClassifier()\n",
    "clf_dt = clf_dt.fit(X_train, y_train)"
   ]
  },
  {
   "cell_type": "markdown",
   "id": "77db0837",
   "metadata": {},
   "source": [
    "### Prediction onTest Data"
   ]
  },
  {
   "cell_type": "code",
   "execution_count": 51,
   "id": "9aef0074",
   "metadata": {},
   "outputs": [],
   "source": [
    "y_pred = clf_dt.predict(X_test)"
   ]
  },
  {
   "cell_type": "markdown",
   "id": "e44b7541",
   "metadata": {},
   "source": [
    "### Getting Accuracy, Precision and Recall of dataset"
   ]
  },
  {
   "cell_type": "code",
   "execution_count": 52,
   "id": "9a26af7b",
   "metadata": {},
   "outputs": [
    {
     "name": "stdout",
     "output_type": "stream",
     "text": [
      "Accuracy: 0.7587719298245614\n",
      "Precision: 0.753968253968254\n",
      "Recall: 0.7983193277310925\n"
     ]
    }
   ],
   "source": [
    "accuraccy_dt=metrics.accuracy_score(y_test, y_pred)\n",
    "print(\"Accuracy:\",metrics.accuracy_score(y_test, y_pred))\n",
    "print(\"Precision:\",metrics.precision_score(y_test, y_pred))\n",
    "print(\"Recall:\",metrics.recall_score(y_test, y_pred))"
   ]
  },
  {
   "cell_type": "markdown",
   "id": "58d6394a",
   "metadata": {},
   "source": [
    "# Support Vector Machine (SVM)"
   ]
  },
  {
   "cell_type": "markdown",
   "id": "006a4b28",
   "metadata": {},
   "source": [
    "### Creating SVM model"
   ]
  },
  {
   "cell_type": "code",
   "execution_count": 53,
   "id": "bd0bcfa5",
   "metadata": {},
   "outputs": [],
   "source": [
    "clf=svm.SVC(gamma=0.01)"
   ]
  },
  {
   "cell_type": "markdown",
   "id": "3bd4dc15",
   "metadata": {},
   "source": [
    "### Fitting and prediction test data"
   ]
  },
  {
   "cell_type": "code",
   "execution_count": 54,
   "id": "533501a0",
   "metadata": {},
   "outputs": [],
   "source": [
    "clf.fit(X_train,y_train)\n",
    "y_predict=clf.predict(X_test)"
   ]
  },
  {
   "cell_type": "markdown",
   "id": "8024e720",
   "metadata": {},
   "source": [
    "### Getting Accuracy, Precision and Recall of dataset"
   ]
  },
  {
   "cell_type": "code",
   "execution_count": 55,
   "id": "397de1b2",
   "metadata": {},
   "outputs": [
    {
     "name": "stdout",
     "output_type": "stream",
     "text": [
      "Accuracy: 0.7587719298245614\n",
      "Precision: 0.753968253968254\n",
      "Recall: 0.7983193277310925\n"
     ]
    }
   ],
   "source": [
    "accuracy_svm=accuracy_score(y_test,y_predict)\n",
    "print(\"Accuracy:\",metrics.accuracy_score(y_test, y_pred))\n",
    "print(\"Precision:\",metrics.precision_score(y_test, y_pred))\n",
    "print(\"Recall:\",metrics.recall_score(y_test, y_pred))"
   ]
  },
  {
   "cell_type": "markdown",
   "id": "ab65e6df",
   "metadata": {},
   "source": [
    "### Confusion Metrix"
   ]
  },
  {
   "cell_type": "code",
   "execution_count": 56,
   "id": "a39361cd",
   "metadata": {},
   "outputs": [
    {
     "data": {
      "text/plain": [
       "array([[68, 41],\n",
       "       [28, 91]], dtype=int64)"
      ]
     },
     "execution_count": 56,
     "metadata": {},
     "output_type": "execute_result"
    }
   ],
   "source": [
    "confussion_metrix_svm=confusion_matrix(y_test,y_predict)\n",
    "confussion_metrix_svm"
   ]
  },
  {
   "cell_type": "code",
   "execution_count": 57,
   "id": "f533f37c",
   "metadata": {},
   "outputs": [
    {
     "data": {
      "text/plain": [
       "<AxesSubplot:>"
      ]
     },
     "execution_count": 57,
     "metadata": {},
     "output_type": "execute_result"
    },
    {
     "data": {
      "image/png": "[encoded data removed]",
      "text/plain": [
       "<Figure size 432x288 with 2 Axes>"
      ]
     },
     "metadata": {
      "needs_background": "light"
     },
     "output_type": "display_data"
    }
   ],
   "source": [
    "# Heat map of confusion metrix\n",
    "sns.heatmap(pd.DataFrame(confussion_metrix_svm),annot=True,fmt='g')"
   ]
  },
  {
   "cell_type": "markdown",
   "id": "98fd9f51",
   "metadata": {},
   "source": [
    "### Plotting accuracy of Models"
   ]
  },
  {
   "cell_type": "code",
   "execution_count": 58,
   "id": "55ef75f8",
   "metadata": {},
   "outputs": [
    {
     "name": "stderr",
     "output_type": "stream",
     "text": [
      "c:\\users\\user\\appdata\\local\\programs\\python\\python37\\lib\\site-packages\\seaborn\\_decorators.py:43: FutureWarning: Pass the following variables as keyword args: x, y. From version 0.12, the only valid positional argument will be `data`, and passing other arguments without an explicit keyword will result in an error or misinterpretation.\n",
      "  FutureWarning\n"
     ]
    },
    {
     "data": {
      "image/png": "[encoded data removed]",
      "text/plain": [
       "<Figure size 432x288 with 1 Axes>"
      ]
     },
     "metadata": {
      "needs_background": "light"
     },
     "output_type": "display_data"
    }
   ],
   "source": [
    "import matplotlib.pyplot as plt\n",
    "fig = plt.figure()\n",
    "\n",
    "langs = [\"Decision Tree\",\"Logistic regression\",\"SVM\"]\n",
    "students = [accuraccy_dt,accuraccy_lr,accuracy_svm]\n",
    "sns.barplot(langs,students,)\n",
    "plt.show()"
   ]
  },
  {
   "cell_type": "markdown",
   "id": "0f0ac8f0",
   "metadata": {},
   "source": [
    "# Proposed Solution and Conclusion"
   ]
  },
  {
   "cell_type": "markdown",
   "id": "674aa480",
   "metadata": {},
   "source": [
    "## How different or similar is your approach as compared to your research papers?\n",
    "The approch which we are using is the same as the approches used in both the research paper. In both the reseach paper it is shown that the SVM has the highest accuraccy when compared with the other algorithm.\n",
    "\n",
    "## What algorithm are you proposing to use? Why?\n",
    "\n",
    "We tried the different algorithm such as Decision tree, Logistic Regression and SVM. We concluded that the acurray of SVM is higher than other algorithm models.Thus we decided to further with SVm algorithm.\n",
    "\n",
    "From the above plotted histograms we can see that our data is non linearly distributes so for such type of data set we uuse Support vector machines (SVMs). Additionally the chances of SVM model getting overfitted is also less and the effect of outliers on SVM model is also less.\n",
    "\n",
    "## What would be the results?\n",
    "After training the machine learning models using three different popular algorithms we can conclude that SVM will give us the  best likelihood of a person donating blood in the next blood donation drive or whenever needed. Initiatives like these would lead to a decrease in response time and additionl costs. The possibility of finding an ideal donor would increase therefore resulting in lower rates of transfusion-related complexities."
   ]
  }
 ],
 "metadata": {
  "kernelspec": {
   "display_name": "Python 3 (ipykernel)",
   "language": "python",
   "name": "python3"
  },
  "language_info": {
   "codemirror_mode": {
    "name": "ipython",
    "version": 3
   },
   "file_extension": ".py",
   "mimetype": "text/x-python",
   "name": "python",
   "nbconvert_exporter": "python",
   "pygments_lexer": "ipython3",
   "version": "3.7.4"
  }
 },
 "nbformat": 4,
 "nbformat_minor": 5
}
